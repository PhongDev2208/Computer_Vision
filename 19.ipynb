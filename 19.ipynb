{
 "cells": [
  {
   "cell_type": "code",
   "execution_count": 1,
   "id": "0abbb41e-23f9-43e6-8774-4b8bae61f210",
   "metadata": {},
   "outputs": [
    {
     "name": "stdout",
     "output_type": "stream",
     "text": [
      "Collecting opencv-python\n",
      "  Downloading opencv_python-4.10.0.84-cp37-abi3-win_amd64.whl.metadata (20 kB)\n",
      "Requirement already satisfied: numpy>=1.21.2 in c:\\programdata\\anaconda3\\lib\\site-packages (from opencv-python) (1.26.4)\n",
      "Downloading opencv_python-4.10.0.84-cp37-abi3-win_amd64.whl (38.8 MB)\n",
      "   ---------------------------------------- 0.0/38.8 MB ? eta -:--:--\n",
      "   - -------------------------------------- 1.3/38.8 MB 8.4 MB/s eta 0:00:05\n",
      "   ---- ----------------------------------- 3.9/38.8 MB 11.2 MB/s eta 0:00:04\n",
      "   ------ --------------------------------- 6.6/38.8 MB 11.8 MB/s eta 0:00:03\n",
      "   --------- ------------------------------ 9.4/38.8 MB 12.5 MB/s eta 0:00:03\n",
      "   ------------- -------------------------- 12.8/38.8 MB 13.4 MB/s eta 0:00:02\n",
      "   ---------------- ----------------------- 16.0/38.8 MB 13.8 MB/s eta 0:00:02\n",
      "   ------------------- -------------------- 19.1/38.8 MB 14.0 MB/s eta 0:00:02\n",
      "   ----------------------- ---------------- 22.8/38.8 MB 14.6 MB/s eta 0:00:02\n",
      "   -------------------------- ------------- 26.2/38.8 MB 14.8 MB/s eta 0:00:01\n",
      "   ------------------------------- -------- 30.7/38.8 MB 15.2 MB/s eta 0:00:01\n",
      "   ---------------------------------- ----- 33.6/38.8 MB 15.2 MB/s eta 0:00:01\n",
      "   -------------------------------------- - 37.7/38.8 MB 15.6 MB/s eta 0:00:01\n",
      "   ---------------------------------------  38.8/38.8 MB 15.6 MB/s eta 0:00:01\n",
      "   ---------------------------------------  38.8/38.8 MB 15.6 MB/s eta 0:00:01\n",
      "   ---------------------------------------  38.8/38.8 MB 15.6 MB/s eta 0:00:01\n",
      "   ---------------------------------------  38.8/38.8 MB 15.6 MB/s eta 0:00:01\n",
      "   ---------------------------------------- 38.8/38.8 MB 11.7 MB/s eta 0:00:00\n",
      "Installing collected packages: opencv-python\n",
      "Successfully installed opencv-python-4.10.0.84\n"
     ]
    }
   ],
   "source": [
    "!pip install opencv-python"
   ]
  },
  {
   "cell_type": "code",
   "execution_count": 1,
   "id": "ea22199f-a240-4e36-a138-fc8fa0df2e82",
   "metadata": {},
   "outputs": [],
   "source": [
    "def display(title, img):\n",
    "    cv2.imshow(title, img)\n",
    "    # Chờ một khoảng thời gian\n",
    "    cv2.waitKey(0)\n",
    "    # Đóng window\n",
    "    cv2.destroyWindow(title)"
   ]
  },
  {
   "cell_type": "code",
   "execution_count": 2,
   "id": "cef0c448-524c-4736-abae-6bb0ce00cd25",
   "metadata": {},
   "outputs": [],
   "source": [
    "# Import thư viện\n",
    "import cv2"
   ]
  },
  {
   "cell_type": "code",
   "execution_count": 3,
   "id": "1de119f6-5149-42fe-8b53-cc47d9e3a4c8",
   "metadata": {},
   "outputs": [
    {
     "name": "stdout",
     "output_type": "stream",
     "text": [
      "[[[ 40 243 228]\n",
      "  [ 29 245 228]\n",
      "  [ 29 245 228]\n",
      "  ...\n",
      "  [ 25 243 226]\n",
      "  [ 25 243 226]\n",
      "  [ 25 243 226]]\n",
      "\n",
      " [[ 29 245 228]\n",
      "  [ 18 247 228]\n",
      "  [ 17 246 227]\n",
      "  ...\n",
      "  [ 22 244 226]\n",
      "  [ 22 244 226]\n",
      "  [ 22 244 226]]\n",
      "\n",
      " [[ 29 245 228]\n",
      "  [ 17 246 227]\n",
      "  [ 17 246 227]\n",
      "  ...\n",
      "  [ 16 245 226]\n",
      "  [ 16 245 226]\n",
      "  [ 16 245 226]]\n",
      "\n",
      " ...\n",
      "\n",
      " [[ 26 244 227]\n",
      "  [ 16 246 227]\n",
      "  [ 17 246 227]\n",
      "  ...\n",
      "  [ 19 245 227]\n",
      "  [ 19 245 227]\n",
      "  [ 19 245 227]]\n",
      "\n",
      " [[ 31 243 227]\n",
      "  [ 21 245 227]\n",
      "  [ 21 245 227]\n",
      "  ...\n",
      "  [ 23 245 227]\n",
      "  [ 23 245 227]\n",
      "  [ 23 245 227]]\n",
      "\n",
      " [[ 38 243 228]\n",
      "  [ 24 244 227]\n",
      "  [ 26 244 227]\n",
      "  ...\n",
      "  [ 28 244 227]\n",
      "  [ 28 244 227]\n",
      "  [ 28 244 227]]]\n"
     ]
    }
   ],
   "source": [
    "\n",
    "path= 'C:/Users/PhongIT/Pictures/animals.jpg'\n",
    "img = cv2.imread(path)\n",
    "# In thông tin của ảnh\n",
    "print(img)"
   ]
  },
  {
   "cell_type": "code",
   "execution_count": 4,
   "id": "bc7a6202-fb87-4a30-b307-b233f64fb828",
   "metadata": {},
   "outputs": [
    {
     "name": "stdout",
     "output_type": "stream",
     "text": [
      "(288, 512, 3)\n",
      "288\n",
      "512\n",
      "3\n"
     ]
    }
   ],
   "source": [
    "# Lấy kích thước\n",
    "print(img.shape)\n",
    "x, y, z = img.shape\n",
    "print(x)\n",
    "print(y)\n",
    "print(z)"
   ]
  },
  {
   "cell_type": "code",
   "execution_count": 5,
   "id": "36bfb942-d772-4f09-8e21-f0dc06a0e671",
   "metadata": {},
   "outputs": [],
   "source": [
    "# Hiển thị ảnh\n",
    "cv2.imshow('Window', img)\n",
    "# Chờ một khoảng thời gian\n",
    "cv2.waitKey(10000)\n",
    "# Đóng window\n",
    "cv2.destroyWindow('Window')"
   ]
  },
  {
   "cell_type": "code",
   "execution_count": 6,
   "id": "6b28ec8d-3540-472c-9d5a-70b3a10cb76a",
   "metadata": {},
   "outputs": [],
   "source": [
    "# Tách màu\n",
    "b, g, r = cv2.split(img)\n",
    "cv2.imshow('Window', img)\n",
    "cv2.imshow('Red', r)\n",
    "cv2.imshow('Green', g)\n",
    "cv2.imshow('Blue', b)\n",
    "\n",
    "# Chờ một khoảng thời gian\n",
    "cv2.waitKey(0)\n",
    "# Đóng window\n",
    "cv2.destroyAllWindows()"
   ]
  },
  {
   "cell_type": "code",
   "execution_count": 7,
   "id": "05919f26-41b2-41ad-aee1-90edfe639022",
   "metadata": {},
   "outputs": [],
   "source": [
    "\n",
    "gray_img = cv2.cvtColor(img, cv2.COLOR_BGR2GRAY)\n",
    "img_2 = cv2.cvtColor(img, cv2.COLOR_BGR2RGB)\n",
    "cv2.imshow('Window', img)\n",
    "cv2.imshow('gray_img', gray_img)\n",
    "cv2.imshow('img_2', img_2)\n",
    "# Chờ một khoảng thời gian\n",
    "cv2.waitKey(0)\n",
    "# Đóng window\n",
    "cv2.destroyAllWindows()"
   ]
  },
  {
   "cell_type": "code",
   "execution_count": 8,
   "id": "7d3e07cc-45bd-497b-9c7d-7c5ed2e57ff7",
   "metadata": {},
   "outputs": [],
   "source": [
    "# Thay đổi thông số của điểm ảnh\n",
    "height, width, z = img.shape\n",
    "quater_h = height/2\n",
    "quater_w = width/2\n",
    "\n",
    "# geen color\n",
    "green_color = (0,255,0)\n",
    "\n",
    "# copy ảnh\n",
    "img2 = img.copy()\n",
    "\n",
    "# thay đổi màu của góc 1/4 bên trái trên\n",
    "\n",
    "for y in range(int(quater_h)):\n",
    "    for x in range(int(quater_w)):\n",
    "        img2[y, x] = green_color\n",
    "# Hiển thị\n",
    "display('Window', img)\n",
    "display('Window-2', img2)"
   ]
  },
  {
   "cell_type": "code",
   "execution_count": null,
   "id": "7d0503d7-3054-4445-8564-b0901993a6b7",
   "metadata": {},
   "outputs": [],
   "source": []
  }
 ],
 "metadata": {
  "kernelspec": {
   "display_name": "Python 3 (ipykernel)",
   "language": "python",
   "name": "python3"
  },
  "language_info": {
   "codemirror_mode": {
    "name": "ipython",
    "version": 3
   },
   "file_extension": ".py",
   "mimetype": "text/x-python",
   "name": "python",
   "nbconvert_exporter": "python",
   "pygments_lexer": "ipython3",
   "version": "3.12.4"
  }
 },
 "nbformat": 4,
 "nbformat_minor": 5
}
