{
 "cells": [
  {
   "cell_type": "code",
   "execution_count": 1,
   "id": "835cb0ec-ca2c-4ad9-87c1-1a6b695248c9",
   "metadata": {},
   "outputs": [],
   "source": [
    "\n",
    "import cv2\n",
    "import numpy as np"
   ]
  },
  {
   "cell_type": "code",
   "execution_count": 2,
   "id": "17711029-f467-4c08-ac02-fc5b5340e9d3",
   "metadata": {},
   "outputs": [],
   "source": [
    "def display(title, img):\n",
    "    cv2.imshow(title, img)\n",
    "    # Chờ một khoảng thời gian\n",
    "    cv2.waitKey(0)\n",
    "    # Đóng window\n",
    "    cv2.destroyWindow(title)"
   ]
  },
  {
   "cell_type": "code",
   "execution_count": 5,
   "id": "82c51ef7-44f6-4e5b-9829-64f33fffd6e5",
   "metadata": {},
   "outputs": [],
   "source": [
    "# Tạo một ảnh\n",
    "img =  np.zeros((400, 600, 3), dtype=np.uint8)\n",
    "img[:] = (0, 0, 255)\n",
    "display('Image', img)"
   ]
  },
  {
   "cell_type": "code",
   "execution_count": 8,
   "id": "e4bd84d1-efdc-4479-acf0-6f92406dbb44",
   "metadata": {},
   "outputs": [],
   "source": [
    "# Tọa độ trung tâm của cờ và bán kính ngôi sao\n",
    "center = (300, 200)  # Trung tâm ảnh\n",
    "radius = 80  # Bán kính ngôi sao\n",
    "color = (0, 255, 255)\n",
    "\n",
    "points = []\n",
    "for i in range(5):\n",
    "    angle_outer = i * 2 * np.pi / 5 - np.pi / 2\n",
    "    angle_inner = (i + 0.5) * 2 * np.pi / 5 - np.pi / 2\n",
    "    point_outer = (int(center[0] + radius * np.cos(angle_outer)), \n",
    "                   int(center[1] + radius * np.sin(angle_outer)))\n",
    "    point_inner = (int(center[0] + (radius / 2) * np.cos(angle_inner)), \n",
    "                   int(center[1] + (radius / 2) * np.sin(angle_inner)))\n",
    "    points.append(point_outer)\n",
    "    points.append(point_inner)\n",
    "\n",
    "# Chuyển đổi danh sách điểm thành dạng mà OpenCV chấp nhận\n",
    "points = np.array(points, np.int32)\n",
    "points = points.reshape((-1, 1, 2))\n",
    "\n",
    "# Vẽ ngôi sao\n",
    "cv2.fillPoly(img, [points], color)\n",
    "display('Image', img)"
   ]
  },
  {
   "cell_type": "code",
   "execution_count": null,
   "id": "db2d040d-897d-4451-8fa3-1fc97907771a",
   "metadata": {},
   "outputs": [],
   "source": []
  }
 ],
 "metadata": {
  "kernelspec": {
   "display_name": "Python 3 (ipykernel)",
   "language": "python",
   "name": "python3"
  },
  "language_info": {
   "codemirror_mode": {
    "name": "ipython",
    "version": 3
   },
   "file_extension": ".py",
   "mimetype": "text/x-python",
   "name": "python",
   "nbconvert_exporter": "python",
   "pygments_lexer": "ipython3",
   "version": "3.12.4"
  }
 },
 "nbformat": 4,
 "nbformat_minor": 5
}
